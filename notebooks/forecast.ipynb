{
 "cells": [
  {
   "cell_type": "markdown",
   "source": [
    "# Prophet demo"
   ],
   "metadata": {
    "collapsed": false
   }
  },
  {
   "cell_type": "markdown",
   "source": [
    "## Preamble"
   ],
   "metadata": {
    "collapsed": false
   }
  },
  {
   "cell_type": "code",
   "execution_count": 23,
   "outputs": [],
   "source": [
    "import pandas\n",
    "import seaborn\n",
    "import matplotlib\n",
    "import forecast_lab\n",
    "import sklearn"
   ],
   "metadata": {
    "collapsed": false,
    "pycharm": {
     "name": "#%%\n",
     "is_executing": false
    }
   }
  },
  {
   "cell_type": "code",
   "execution_count": 24,
   "outputs": [],
   "source": [
    "seaborn.set_style(\"ticks\")\n",
    "matplotlib.pyplot.rcParams[\"axes.grid\"] = True\n",
    "matplotlib.pyplot.rcParams[\"figure.figsize\"] = (20, 3)"
   ],
   "metadata": {
    "collapsed": false,
    "pycharm": {
     "name": "#%%\n",
     "is_executing": false
    }
   }
  },
  {
   "cell_type": "markdown",
   "source": [],
   "metadata": {
    "collapsed": false
   }
  },
  {
   "cell_type": "code",
   "execution_count": 26,
   "outputs": [],
   "source": [
    "taxi_trips = forecast_lab.datasets.read_chicago_taxi_trips_daily()"
   ],
   "metadata": {
    "collapsed": false,
    "pycharm": {
     "name": "#%%\n",
     "is_executing": false
    }
   }
  },
  {
   "cell_type": "code",
   "execution_count": 27,
   "outputs": [
    {
     "data": {
      "text/plain": "            Trips\nDate             \n2013-01-01     96\n2013-01-02     53\n2013-01-03     61\n2013-01-04     79\n2013-01-05     76",
      "text/html": "<div>\n<style scoped>\n    .dataframe tbody tr th:only-of-type {\n        vertical-align: middle;\n    }\n\n    .dataframe tbody tr th {\n        vertical-align: top;\n    }\n\n    .dataframe thead th {\n        text-align: right;\n    }\n</style>\n<table border=\"1\" class=\"dataframe\">\n  <thead>\n    <tr style=\"text-align: right;\">\n      <th></th>\n      <th>Trips</th>\n    </tr>\n    <tr>\n      <th>Date</th>\n      <th></th>\n    </tr>\n  </thead>\n  <tbody>\n    <tr>\n      <th>2013-01-01</th>\n      <td>96</td>\n    </tr>\n    <tr>\n      <th>2013-01-02</th>\n      <td>53</td>\n    </tr>\n    <tr>\n      <th>2013-01-03</th>\n      <td>61</td>\n    </tr>\n    <tr>\n      <th>2013-01-04</th>\n      <td>79</td>\n    </tr>\n    <tr>\n      <th>2013-01-05</th>\n      <td>76</td>\n    </tr>\n  </tbody>\n</table>\n</div>"
     },
     "metadata": {},
     "output_type": "execute_result",
     "execution_count": 27
    }
   ],
   "source": [
    "taxi_trips.head()"
   ],
   "metadata": {
    "collapsed": false,
    "pycharm": {
     "name": "#%%\n",
     "is_executing": false
    }
   }
  },
  {
   "cell_type": "markdown",
   "source": [
    "Prophet expects the input time series in the format of a `pandas.DataFrame` with columns `ds` for time and `y` for values."
   ],
   "metadata": {
    "collapsed": false
   }
  },
  {
   "cell_type": "code",
   "execution_count": 39,
   "outputs": [],
   "source": [
    "taxi_trips_p  = pandas.DataFrame(taxi_trips).reset_index()\n",
    "taxi_trips_p.columns = [\"ds\", \"y\"]\n",
    "superbowls = pandas.DataFrame({\n",
    "  'holiday': 'superbowl',\n",
    "  'ds': pandas.to_datetime([\n",
    "'2013-02-03',\n",
    "'2014-02-02',\n",
    "'2015-02-01',\n",
    "'2016-02-07',\n",
    "'2017-02-05'\n",
    "  ]),\n",
    "  'lower_window': 0,\n",
    "  'upper_window': 1,\n",
    "})\n",
    "## Evaluation"
   ],
   "metadata": {
    "collapsed": false,
    "pycharm": {
     "name": "#%%\n",
     "is_executing": false
    }
   }
  },
  {
   "cell_type": "code",
   "execution_count": 65,
   "outputs": [
    {
     "traceback": [
      "\u001b[0;31m---------------------------------------------------------------------------\u001b[0m",
      "\u001b[0;31mAttributeError\u001b[0m                            Traceback (most recent call last)",
      "\u001b[0;32m<ipython-input-65-0592566a0e22>\u001b[0m in \u001b[0;36m<module>\u001b[0;34m\u001b[0m\n\u001b[1;32m     12\u001b[0m         \u001b[0mtrain_window_size\u001b[0m\u001b[0;34m=\u001b[0m\u001b[0;36m730\u001b[0m\u001b[0;34m,\u001b[0m\u001b[0;34m\u001b[0m\u001b[0;34m\u001b[0m\u001b[0m\n\u001b[1;32m     13\u001b[0m         metrics={\n\u001b[0;32m---> 14\u001b[0;31m             \u001b[0;34m\"MAE\"\u001b[0m\u001b[0;34m:\u001b[0m \u001b[0mforecast_lab\u001b[0m\u001b[0;34m.\u001b[0m\u001b[0mmetrics\u001b[0m\u001b[0;34m.\u001b[0m\u001b[0mmean_absolute_error_local\u001b[0m\u001b[0;34m\u001b[0m\u001b[0;34m\u001b[0m\u001b[0m\n\u001b[0m\u001b[1;32m     15\u001b[0m         }\n\u001b[1;32m     16\u001b[0m \u001b[0;34m)\u001b[0m\u001b[0;34m.\u001b[0m\u001b[0mevaluate\u001b[0m\u001b[0;34m(\u001b[0m\u001b[0;34m\u001b[0m\u001b[0;34m\u001b[0m\u001b[0m\n",
      "\u001b[0;31mAttributeError\u001b[0m: module 'forecast_lab.metrics' has no attribute 'mean_absolute_error_local'"
     ],
     "ename": "AttributeError",
     "evalue": "module 'forecast_lab.metrics' has no attribute 'mean_absolute_error_local'",
     "output_type": "error"
    }
   ],
   "source": [
    "forecast_lab.ForecastEvaluation(\n",
    "        ts=taxi_trips[\"Trips\"],\n",
    "        forecasting=forecast_lab.ProphetWrapper(\n",
    "            freq=\"d\",\n",
    "            estimator_params={\n",
    "                \"holidays_prior_scale\": 20,\n",
    "                \"holidays\": superbowls,\n",
    "                \"mcmc_samples\": 0,\n",
    "                \"yearly_seasonality\": 10,\n",
    "                \"weekly_seasonality\": True}),\n",
    "        test_window_size=30,\n",
    "        train_window_size=365,\n",
    "        metrics={\n",
    "            \"MAE\": sklearn.metrics.mean_absolute_error\n",
    "        }\n",
    ").evaluate(\n",
    "    k=20,\n",
    "    plot_segments=True,\n",
    "    plot_residuals=True,\n",
    ").get_metrics().mean()"
   ],
   "metadata": {
    "collapsed": false,
    "pycharm": {
     "name": "#%%\n",
     "is_executing": false
    }
   }
  },
  {
   "cell_type": "code",
   "execution_count": null,
   "outputs": [],
   "source": [
    "forecast_lab.ForecastEvaluation(\n",
    "        ts=taxi_trips[\"Trips\"],\n",
    "        forecasting=forecast_lab.dummy.MeanForecast(),\n",
    "        test_window_size=30,\n",
    "        train_window_size=365,\n",
    "        metrics={\n",
    "            \"MAE\": sklearn.metrics.mean_absolute_error\n",
    "        }\n",
    ").evaluate(\n",
    "    k=20,\n",
    "    plot_segments=True,\n",
    "    plot_residuals=True,\n",
    ").get_metrics().mean()"
   ],
   "metadata": {
    "collapsed": false,
    "pycharm": {
     "name": "#%%\n"
    }
   }
  },
  {
   "cell_type": "markdown",
   "source": [
    "## References\n"
   ],
   "metadata": {
    "collapsed": false,
    "pycharm": {
     "name": "#%% md\n"
    }
   }
  }
 ],
 "metadata": {
  "language_info": {
   "codemirror_mode": {
    "name": "ipython",
    "version": 2
   },
   "file_extension": ".py",
   "mimetype": "text/x-python",
   "name": "python",
   "nbconvert_exporter": "python",
   "pygments_lexer": "ipython2",
   "version": "2.7.6"
  },
  "kernelspec": {
   "name": "python3",
   "language": "python",
   "display_name": "Python 3"
  },
  "pycharm": {
   "stem_cell": {
    "cell_type": "raw",
    "source": [],
    "metadata": {
     "collapsed": false
    }
   }
  }
 },
 "nbformat": 4,
 "nbformat_minor": 0
}